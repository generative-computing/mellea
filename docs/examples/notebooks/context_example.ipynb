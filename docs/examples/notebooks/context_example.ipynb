{
 "cells": [
  {
   "cell_type": "markdown",
   "metadata": {
    "id": "IByYhgKy9WCo"
   },
   "source": [
    "# Context Example\n",
    "This Jupyter notebook runs on Colab and demonstrates context management."
   ]
  },
  {
   "cell_type": "markdown",
   "metadata": {
    "id": "ZIu6B1Ht927Z"
   },
   "source": [
    "## Install Ollama\n",
    "\n",
    "Before we get started with Mellea, we download and install ollama."
   ]
  },
  {
   "cell_type": "code",
   "execution_count": null,
   "metadata": {
    "id": "VDaTfltQY3Fl"
   },
   "outputs": [],
   "source": [
    "!curl -fsSL https://ollama.com/install.sh | sh\n",
    "!nohup ollama serve &"
   ]
  },
  {
   "cell_type": "markdown",
   "metadata": {
    "id": "jEl3nAk696mI"
   },
   "source": [
    "## Install Mellea\n",
    "We run `uv pip install mellea` to install Mellea."
   ]
  },
  {
   "cell_type": "code",
   "execution_count": null,
   "metadata": {
    "id": "9EurAUSz_1yl"
   },
   "outputs": [],
   "source": [
    "!uv pip install mellea -q"
   ]
  },
  {
   "cell_type": "markdown",
   "metadata": {
    "id": "NU7bZqKA0djW"
   },
   "source": [
    "## Import Mellea and Start a Session with LinearContext\n",
    "\n",
    "Up to this point we have used SimpleContext, a context manager that resets the chat message history on each model call. That is, the model's context is entirely determined by the current Component. \n",
    "\n",
    "Mellea also provides a LinearContext, which behaves like a chat history. We will use the LinearContext to interact with cat hmodels:"
   ]
  },
  {
   "cell_type": "code",
   "execution_count": null,
   "metadata": {
    "id": "z7FVCBTRwgNC"
   },
   "outputs": [],
   "source": [
    "from mellea import LinearContext, start_session\n",
    "m = start_session(ctx=LinearContext())\n",
    "m.chat(\"Make up a math problem.\")\n",
    "m.chat(\"Solve your math problem.\")\n",
    "print(m.ctx.last_output())\n",
    "print(m.ctx.last_turn())"
   ]
  }
 ],
 "metadata": {
  "accelerator": "GPU",
  "colab": {
   "gpuType": "T4",
   "provenance": []
  },
  "kernelspec": {
   "display_name": "Python 3 (ipykernel)",
   "language": "python",
   "name": "python3"
  },
  "language_info": {
   "codemirror_mode": {
    "name": "ipython",
    "version": 3
   },
   "file_extension": ".py",
   "mimetype": "text/x-python",
   "name": "python",
   "nbconvert_exporter": "python",
   "pygments_lexer": "ipython3",
   "version": "3.13.5"
  }
 },
 "nbformat": 4,
 "nbformat_minor": 4
}
