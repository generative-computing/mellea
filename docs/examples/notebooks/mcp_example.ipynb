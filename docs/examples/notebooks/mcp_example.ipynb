{
 "cells": [
  {
   "attachments": {},
   "cell_type": "markdown",
   "metadata": {
    "id": "IByYhgKy9WCo"
   },
   "source": [
    "# Model Context Protocol (MCP) Server Example \n",
    "This Jupyter notebook runs on Colab and demonstrates a MCP server running Mellea. "
   ]
  },
  {
   "cell_type": "markdown",
   "metadata": {
    "id": "ZIu6B1Ht927Z"
   },
   "source": [
    "## Install Ollama and MCP\n",
    "\n",
    "Before we get started with Mellea, we download, install and serve ollama, and install mcp. We define set_css to wrap Colab output."
   ]
  },
  {
   "cell_type": "code",
   "execution_count": null,
   "metadata": {
    "id": "VDaTfltQY3Fl"
   },
   "outputs": [],
   "source": [
    "!curl -fsSL https://ollama.com/install.sh | sh > /dev/null\n",
    "!nohup ollama serve >/dev/null 2>&1 &\n",
    "!uv pip install mcp -q\n",
    "\n",
    "from IPython.display import HTML, display\n",
    "\n",
    "\n",
    "def set_css():\n",
    "    display(HTML(\"\\n<style>\\n pre{\\n white-space: pre-wrap;\\n}\\n</style>\\n\"))\n",
    "\n",
    "\n",
    "get_ipython().events.register(\"pre_run_cell\", set_css)"
   ]
  },
  {
   "cell_type": "markdown",
   "metadata": {
    "id": "jEl3nAk696mI"
   },
   "source": [
    "## Install Mellea\n",
    "We run `uv pip install mellea` to install Mellea."
   ]
  },
  {
   "cell_type": "code",
   "execution_count": null,
   "metadata": {
    "id": "9EurAUSz_1yl"
   },
   "outputs": [],
   "source": [
    "!uv pip install mellea -q"
   ]
  },
  {
   "cell_type": "markdown",
   "metadata": {
    "id": "NU7bZqKA0djW"
   },
   "source": [
    "## Import Mellea and MCP Server"
   ]
  },
  {
   "cell_type": "code",
   "execution_count": null,
   "metadata": {},
   "outputs": [],
   "source": [
    "from mcp.server.fastmcp import FastMCP\n",
    "\n",
    "from mellea import MelleaSession\n",
    "from mellea.backends import model_ids\n",
    "from mellea.backends.ollama import OllamaModelBackend\n",
    "from mellea.stdlib.base import ModelOutputThunk\n",
    "from mellea.stdlib.requirement import Requirement, simple_validate\n",
    "from mellea.stdlib.sampling import RejectionSamplingStrategy"
   ]
  },
  {
   "cell_type": "markdown",
   "metadata": {},
   "source": [
    "## Create an MCP Server\n",
    "Run MCP debug UI with: `uv run mcp dev docs/examples/mcp/mcp_example.py`. We can wrap a simple mcp server around a program and use the server as-is. "
   ]
  },
  {
   "cell_type": "code",
   "execution_count": null,
   "metadata": {},
   "outputs": [],
   "source": [
    "mcp = FastMCP(\"Demo\")\n",
    "\n",
    "\n",
    "@mcp.tool()\n",
    "def write_a_poem(word_limit: int) -> str:\n",
    "    \"\"\"Write a poem with a word limit.\"\"\"\n",
    "    m = MelleaSession(OllamaModelBackend(model_ids.QWEN3_8B))\n",
    "    wl_req = Requirement(\n",
    "        f\"Use only {word_limit} words.\",\n",
    "        validation_fn=simple_validate(lambda x: len(x.split(\" \")) < word_limit),\n",
    "    )\n",
    "    res = m.instruct(\n",
    "        \"Write a poem\",\n",
    "        requirements=[wl_req],\n",
    "        strategy=RejectionSamplingStrategy(loop_budget=4),\n",
    "    )\n",
    "    assert isinstance(res, ModelOutputThunk)\n",
    "    return str(res.value)\n",
    "\n",
    "\n",
    "@mcp.resource(\"greeting://{name}\")\n",
    "def get_greeting(name: str) -> str:\n",
    "    \"\"\"Get a personalized greeting\"\"\"\n",
    "    return f\"Hello, {name}!\""
   ]
  }
 ],
 "metadata": {
  "kernelspec": {
   "display_name": "Python 3 (ipykernel)",
   "language": "python",
   "name": "python3"
  },
  "language_info": {
   "codemirror_mode": {
    "name": "ipython",
    "version": 3
   },
   "file_extension": ".py",
   "mimetype": "text/x-python",
   "name": "python",
   "nbconvert_exporter": "python",
   "pygments_lexer": "ipython3",
   "version": "3.13.5"
  }
 },
 "nbformat": 4,
 "nbformat_minor": 4
}
