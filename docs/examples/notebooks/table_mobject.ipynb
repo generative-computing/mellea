{
 "cells": [
  {
   "cell_type": "markdown",
   "metadata": {
    "id": "IByYhgKy9WCo"
   },
   "source": [
    "# Table MObject Example\n",
    "This notebook runs on Colab and demonstrates the MObject pattern with a table example."
   ]
  },
  {
   "cell_type": "markdown",
   "metadata": {
    "id": "ZIu6B1Ht927Z"
   },
   "source": [
    "## Install Ollama\n",
    "\n",
    "Before we get started with Mellea, we download, install and serve ollama. We define set_css to wrap Colab output."
   ]
  },
  {
   "cell_type": "code",
   "execution_count": null,
   "metadata": {
    "id": "VDaTfltQY3Fl"
   },
   "outputs": [],
   "source": [
    "!curl -fsSL https://ollama.com/install.sh | sh > /dev/null\n",
    "!nohup ollama serve >/dev/null 2>&1 &\n",
    "\n",
    "from IPython.display import HTML, display\n",
    "\n",
    "\n",
    "def set_css():\n",
    "    display(HTML(\"\\n<style>\\n pre{\\n white-space: pre-wrap;\\n}\\n</style>\\n\"))\n",
    "\n",
    "\n",
    "get_ipython().events.register(\"pre_run_cell\", set_css)"
   ]
  },
  {
   "cell_type": "markdown",
   "metadata": {
    "id": "jEl3nAk696mI"
   },
   "source": [
    "## Install Mellea\n",
    "We run `uv pip install mellea` to install Mellea."
   ]
  },
  {
   "cell_type": "code",
   "execution_count": null,
   "metadata": {
    "id": "9EurAUSz_1yl"
   },
   "outputs": [],
   "source": [
    "!uv pip install mellea -q"
   ]
  },
  {
   "cell_type": "markdown",
   "metadata": {
    "id": "NU7bZqKA0djW"
   },
   "source": [
    "## Create Table MObject\n",
    "Use the @mify decorator to transform MyCompanyDatabase into an MObject."
   ]
  },
  {
   "cell_type": "code",
   "execution_count": null,
   "metadata": {
    "id": "2w_qWagm3gDa"
   },
   "outputs": [],
   "source": [
    "from io import StringIO\n",
    "\n",
    "import pandas\n",
    "\n",
    "import mellea\n",
    "from mellea.stdlib.mify import MifiedProtocol, mify\n",
    "\n",
    "\n",
    "@mify(fields_include={\"table\"}, template=\"{{ table }}\")\n",
    "class MyCompanyDatabase:\n",
    "    table: str = \"\"\"| Store      | Sales   |\n",
    "                    | ---------- | ------- |\n",
    "                    | Northeast  | $250    |\n",
    "                    | Southeast  | $80     |\n",
    "                    | Midwest    | $420    |\"\"\"\n",
    "\n",
    "    def transpose(self):\n",
    "        pandas.read_csv(\n",
    "            StringIO(self.table),\n",
    "            sep=\"|\",\n",
    "            skipinitialspace=True,\n",
    "            header=0,\n",
    "            index_col=False,\n",
    "        )"
   ]
  },
  {
   "cell_type": "markdown",
   "metadata": {},
   "source": [
    "## Ask Questions about the Table\n",
    "Initialize a backend running Ollama and use the LLM to answer questions about the table."
   ]
  },
  {
   "cell_type": "code",
   "execution_count": null,
   "metadata": {
    "id": "tLrGT6iT3gDa"
   },
   "outputs": [],
   "source": [
    "m = mellea.start_session()\n",
    "db = MyCompanyDatabase()\n",
    "assert isinstance(db, MifiedProtocol)\n",
    "answer = m.query(db, \"What were sales for the Northeast branch this month?\")\n",
    "print(str(answer))"
   ]
  }
 ],
 "metadata": {
  "accelerator": "GPU",
  "colab": {
   "gpuType": "T4",
   "provenance": []
  },
  "kernelspec": {
   "display_name": "Python 3 (ipykernel)",
   "language": "python",
   "name": "python3"
  },
  "language_info": {
   "codemirror_mode": {
    "name": "ipython",
    "version": 3
   },
   "file_extension": ".py",
   "mimetype": "text/x-python",
   "name": "python",
   "nbconvert_exporter": "python",
   "pygments_lexer": "ipython3",
   "version": "3.13.5"
  }
 },
 "nbformat": 4,
 "nbformat_minor": 4
}
