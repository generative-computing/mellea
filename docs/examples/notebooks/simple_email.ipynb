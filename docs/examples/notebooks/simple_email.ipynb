{
 "cells": [
  {
   "cell_type": "markdown",
   "metadata": {
    "id": "IByYhgKy9WCo"
   },
   "source": [
    "# Simple Email\n",
    "This Jupyter notebook runs on Colab and demonstrates composing a simple email."
   ]
  },
  {
   "cell_type": "markdown",
   "metadata": {
    "id": "ZIu6B1Ht927Z"
   },
   "source": [
    "## Install Ollama\n",
    "\n",
    "Before we get started with Mellea, we download, install and serve ollama. We define set_css to wrap Colab output."
   ]
  },
  {
   "cell_type": "code",
   "execution_count": null,
   "metadata": {
    "id": "VDaTfltQY3Fl"
   },
   "outputs": [],
   "source": [
    "!curl -fsSL https://ollama.com/install.sh | sh > /dev/null\n",
    "!nohup ollama serve >/dev/null 2>&1 &\n",
    "\n",
    "from IPython.display import HTML, display\n",
    "\n",
    "\n",
    "def set_css():\n",
    "    display(HTML(\"\\n<style>\\n pre{\\n white-space: pre-wrap;\\n}\\n</style>\\n\"))\n",
    "\n",
    "\n",
    "get_ipython().events.register(\"pre_run_cell\", set_css)"
   ]
  },
  {
   "cell_type": "markdown",
   "metadata": {
    "id": "jEl3nAk696mI"
   },
   "source": [
    "## Install Mellea\n",
    "We run `uv pip install mellea` to install Mellea."
   ]
  },
  {
   "cell_type": "code",
   "execution_count": null,
   "metadata": {
    "id": "9EurAUSz_1yl"
   },
   "outputs": [],
   "source": [
    "!uv pip install mellea -q"
   ]
  },
  {
   "cell_type": "markdown",
   "metadata": {
    "id": "NU7bZqKA0djW"
   },
   "source": [
    "## Import Mellea and Start a Session\n",
    "We initialize a backend running Ollama using the granite3.3-chat model."
   ]
  },
  {
   "cell_type": "code",
   "execution_count": null,
   "metadata": {
    "id": "nlcQhqVB0djX"
   },
   "outputs": [],
   "source": [
    "import mellea\n",
    "\n",
    "m = mellea.start_session()"
   ]
  },
  {
   "cell_type": "markdown",
   "metadata": {},
   "source": [
    "## Basic Email\n",
    "We make a simple email request."
   ]
  },
  {
   "cell_type": "code",
   "execution_count": null,
   "metadata": {
    "id": "Jt3UC-Sa0djY"
   },
   "outputs": [],
   "source": [
    "email = m.instruct(\"Write an email inviting interns to an office party at 3:30pm.\")\n",
    "print(str(email))"
   ]
  },
  {
   "cell_type": "markdown",
   "metadata": {},
   "source": [
    "## Email Function with User Variables\n",
    "We wrap this call into a function with some arguments."
   ]
  },
  {
   "cell_type": "code",
   "execution_count": null,
   "metadata": {
    "id": "YQMLMA6L0djZ"
   },
   "outputs": [],
   "source": [
    "def write_email(m: mellea.MelleaSession, name: str, notes: str) -> str:\n",
    "    email = m.instruct(\n",
    "        \"Write an email to {{name}} using the notes following: {{notes}}.\",\n",
    "        user_variables={\"name\": name, \"notes\": notes},\n",
    "    )\n",
    "    return email.value  # str(email) also works.\n",
    "\n",
    "\n",
    "print(\n",
    "    write_email(\n",
    "        m,\n",
    "        \"Olivia\",\n",
    "        \"Olivia helped the lab over the last few weeks by organizing intern events, advertising the speaker series, and handling issues with snack delivery.\",\n",
    "    )\n",
    ")"
   ]
  },
  {
   "cell_type": "markdown",
   "metadata": {
    "id": "3grQLU580dja"
   },
   "source": [
    "## Email with Requirements\n",
    "Suppose we want to ensure that the email has a salutation and contains only lower-case letters.\n",
    "We capture these post-conditions by specifying requirements on the m.instruct call."
   ]
  },
  {
   "cell_type": "code",
   "execution_count": null,
   "metadata": {
    "id": "xQmvHSfX0dja"
   },
   "outputs": [],
   "source": [
    "def write_email_with_requirements(\n",
    "    m: mellea.MelleaSession, name: str, notes: str\n",
    ") -> str:\n",
    "    email = m.instruct(\n",
    "        \"Write an email to {{name}} using the notes following: {{notes}}.\",\n",
    "        requirements=[\n",
    "            \"The email should have a salutation\",\n",
    "            \"Use only lower-case letters\",\n",
    "        ],\n",
    "        user_variables={\"name\": name, \"notes\": notes},\n",
    "    )\n",
    "    return str(email)\n",
    "\n",
    "\n",
    "print(\n",
    "    write_email_with_requirements(\n",
    "        m,\n",
    "        name=\"Olivia\",\n",
    "        notes=\"Olivia helped the lab over the last few weeks by organizing intern events, advertising the speaker series, and handling issues with snack delivery.\",\n",
    "    )\n",
    ")"
   ]
  },
  {
   "cell_type": "markdown",
   "metadata": {
    "id": "U5BQleHA0dja"
   },
   "source": [
    "## Email with Rejection Sampling\n",
    "We add two requirements to the instruction which will be added to the model request. \n",
    "But we don't check yet if these requirements are satisfied, we add a strategy for validating the requirements.\n",
    "\n",
    "This sampling strategy (RejectionSamplingStrategy()) checks if all requirements are met and if any requirement fails, the sampling strategy will sample a new email from the LLM."
   ]
  },
  {
   "cell_type": "code",
   "execution_count": null,
   "metadata": {
    "id": "z24yoz3D0dja"
   },
   "outputs": [],
   "source": [
    "from mellea.stdlib.sampling import RejectionSamplingStrategy\n",
    "\n",
    "\n",
    "def write_email_with_strategy(m: mellea.MelleaSession, name: str, notes: str) -> str:\n",
    "    email_candidate = m.instruct(\n",
    "        \"Write an email to {{name}} using the notes following: {{notes}}.\",\n",
    "        requirements=[\n",
    "            \"The email should have a salutation\",\n",
    "            \"Use only lower-case letters\",\n",
    "        ],\n",
    "        strategy=RejectionSamplingStrategy(loop_budget=5),\n",
    "        user_variables={\"name\": name, \"notes\": notes},\n",
    "        return_sampling_results=True,\n",
    "    )\n",
    "    if email_candidate.success:\n",
    "        return str(email_candidate.result)\n",
    "    else:\n",
    "        print(\"Expect sub-par result.\")\n",
    "        return email_candidate.sample_generations[0].value\n",
    "\n",
    "\n",
    "print(\n",
    "    write_email_with_strategy(\n",
    "        m,\n",
    "        \"Olivia\",\n",
    "        \"Olivia helped the lab over the last few weeks by organizing intern events, advertising the speaker series, and handling issues with snack delivery.\",\n",
    "    )\n",
    ")"
   ]
  }
 ],
 "metadata": {
  "accelerator": "GPU",
  "colab": {
   "gpuType": "T4",
   "provenance": []
  },
  "kernelspec": {
   "display_name": "Python 3 (ipykernel)",
   "language": "python",
   "name": "python3"
  },
  "language_info": {
   "codemirror_mode": {
    "name": "ipython",
    "version": 3
   },
   "file_extension": ".py",
   "mimetype": "text/x-python",
   "name": "python",
   "nbconvert_exporter": "python",
   "pygments_lexer": "ipython3",
   "version": "3.13.5"
  }
 },
 "nbformat": 4,
 "nbformat_minor": 4
}
