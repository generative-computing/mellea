{
 "cells": [
  {
   "cell_type": "markdown",
   "metadata": {
    "id": "IByYhgKy9WCo"
   },
   "source": [
    "# Model Options Example\n",
    "This Jupyter notebook runs on Colab and demonstrates specifying model options"
   ]
  },
  {
   "cell_type": "markdown",
   "metadata": {
    "id": "ZIu6B1Ht927Z"
   },
   "source": [
    "## Install Ollama\n",
    "\n",
    "Before we get started with Mellea, we download, install and serve ollama. We define set_css to wrap Colab output."
   ]
  },
  {
   "cell_type": "code",
   "execution_count": null,
   "metadata": {
    "id": "VDaTfltQY3Fl"
   },
   "outputs": [],
   "source": [
    "!curl -fsSL https://ollama.com/install.sh | sh > /dev/null\n",
    "!nohup ollama serve >/dev/null 2>&1 &\n",
    "\n",
    "from IPython.display import HTML, display\n",
    "\n",
    "\n",
    "def set_css():\n",
    "    display(HTML(\"\\n<style>\\n pre{\\n white-space: pre-wrap;\\n}\\n</style>\\n\"))\n",
    "\n",
    "\n",
    "get_ipython().events.register(\"pre_run_cell\", set_css)"
   ]
  },
  {
   "cell_type": "markdown",
   "metadata": {
    "id": "jEl3nAk696mI"
   },
   "source": [
    "## Install Mellea\n",
    "We run `uv pip install mellea` to install Mellea."
   ]
  },
  {
   "cell_type": "code",
   "execution_count": null,
   "metadata": {
    "id": "9EurAUSz_1yl"
   },
   "outputs": [],
   "source": [
    "!uv pip install mellea -q"
   ]
  },
  {
   "cell_type": "markdown",
   "metadata": {
    "id": "NU7bZqKA0djW"
   },
   "source": [
    "## Import Mellea and Start a Session\n",
    "We initialize a backend running Ollama using the granite3.3-chat model."
   ]
  },
  {
   "cell_type": "code",
   "execution_count": null,
   "metadata": {
    "id": "DM6s856Nar-1"
   },
   "outputs": [],
   "source": [
    "import mellea\n",
    "from mellea.backends import model_ids\n",
    "from mellea.backends.ollama import OllamaModelBackend\n",
    "from mellea.backends.types import ModelOption"
   ]
  },
  {
   "cell_type": "markdown",
   "metadata": {},
   "source": [
    "## Specify Options on Backend Initialization\n",
    "You can add any key-value option pair supported by the backend to the model_options dictionary, and those options are passed along to the inference engine (even if a Mellea-specific ModelOption is defined for that option). This means you can safely copy over model option parameters from exiting codebases as-is:"
   ]
  },
  {
   "cell_type": "code",
   "execution_count": null,
   "metadata": {
    "id": "WVavhJ-uar-1"
   },
   "outputs": [],
   "source": [
    "m = mellea.MelleaSession(\n",
    "    backend=OllamaModelBackend(\n",
    "        model_id=model_ids.IBM_GRANITE_3_2_8B, model_options={ModelOption.SEED: 42}\n",
    "    )\n",
    ")"
   ]
  },
  {
   "cell_type": "markdown",
   "metadata": {},
   "source": [
    "## Specify Options on a Mellea Call\n",
    "Options specified here will update previously specified model options for this call only."
   ]
  },
  {
   "cell_type": "code",
   "execution_count": null,
   "metadata": {
    "id": "ishXXO9Far-2"
   },
   "outputs": [],
   "source": [
    "answer = m.instruct(\n",
    "    \"What is 2x2?\", model_options={\"temperature\": 0.5, \"num_predict\": 50}\n",
    ")\n",
    "print(str(answer))"
   ]
  }
 ],
 "metadata": {
  "accelerator": "GPU",
  "colab": {
   "gpuType": "T4",
   "provenance": []
  },
  "kernelspec": {
   "display_name": "Python 3 (ipykernel)",
   "language": "python",
   "name": "python3"
  },
  "language_info": {
   "codemirror_mode": {
    "name": "ipython",
    "version": 3
   },
   "file_extension": ".py",
   "mimetype": "text/x-python",
   "name": "python",
   "nbconvert_exporter": "python",
   "pygments_lexer": "ipython3",
   "version": "3.13.5"
  }
 },
 "nbformat": 4,
 "nbformat_minor": 4
}
