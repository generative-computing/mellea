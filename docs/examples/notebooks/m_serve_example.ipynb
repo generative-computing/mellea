{
 "cells": [
  {
   "cell_type": "markdown",
   "metadata": {
    "id": "IByYhgKy9WCo"
   },
   "source": [
    "# M Serve Example\n",
    "This Jupyter notebook runs M Serve on Colab."
   ]
  },
  {
   "cell_type": "markdown",
   "metadata": {
    "id": "ZIu6B1Ht927Z"
   },
   "source": [
    "## Install Ollama\n",
    "\n",
    "Before we get started with Mellea, we download, install and serve ollama. We define set_css to wrap Colab output."
   ]
  },
  {
   "cell_type": "code",
   "execution_count": null,
   "metadata": {
    "id": "VDaTfltQY3Fl"
   },
   "outputs": [],
   "source": [
    "!curl -fsSL https://ollama.com/install.sh | sh > /dev/null\n",
    "!nohup ollama serve >/dev/null 2>&1 &\n",
    "\n",
    "from IPython.display import HTML, display\n",
    "\n",
    "\n",
    "def set_css():\n",
    "    display(HTML(\"\\n<style>\\n pre{\\n white-space: pre-wrap;\\n}\\n</style>\\n\"))\n",
    "\n",
    "\n",
    "get_ipython().events.register(\"pre_run_cell\", set_css)"
   ]
  },
  {
   "cell_type": "markdown",
   "metadata": {
    "id": "jEl3nAk696mI"
   },
   "source": [
    "## Install Mellea\n",
    "We run `uv pip install mellea` to install Mellea."
   ]
  },
  {
   "cell_type": "code",
   "execution_count": null,
   "metadata": {
    "id": "9EurAUSz_1yl"
   },
   "outputs": [],
   "source": [
    "!uv pip install mellea -q"
   ]
  },
  {
   "cell_type": "markdown",
   "metadata": {
    "id": "NU7bZqKA0djW"
   },
   "source": [
    "## Import Mellea and Start a Session\n",
    "We initialize a backend and specify the context."
   ]
  },
  {
   "cell_type": "code",
   "execution_count": null,
   "metadata": {},
   "outputs": [],
   "source": [
    "from typing import Any\n",
    "\n",
    "import mellea\n",
    "from cli.serve.models import ChatMessage\n",
    "from mellea.stdlib.base import LinearContext, ModelOutputThunk\n",
    "from mellea.stdlib.requirement import Requirement, simple_validate\n",
    "from mellea.stdlib.sampling import RejectionSamplingStrategy, SamplingResult\n",
    "\n",
    "session = mellea.start_session(ctx=LinearContext())\n",
    "\n",
    "\n",
    "def validate_hi_bob(email: str) -> bool:\n",
    "    return email.startswith(\"Hi Bob!\")\n",
    "\n",
    "\n",
    "def validate_email_len(email: str) -> bool:\n",
    "    return len(email) < 50\n",
    "\n",
    "\n",
    "def serve(\n",
    "    input: list[ChatMessage],\n",
    "    requirements: list[str] | None = None,\n",
    "    model_options: None | dict = None,\n",
    ") -> ModelOutputThunk | SamplingResult:\n",
    "    \"\"\"Takes a prompt as input and runs it through an M program.\"\"\"\n",
    "    requirements = requirements if requirements else []\n",
    "    message = input[-1].content\n",
    "    reqs = [\n",
    "        Requirement(\n",
    "            \"Keep this under 50 words\",\n",
    "            validation_fn=simple_validate(validate_email_len),\n",
    "        ),\n",
    "        Requirement(\n",
    "            \"Add a 'Hi Bob!' at the top of the output\",\n",
    "            validation_fn=simple_validate(validate_hi_bob),\n",
    "        ),\n",
    "        *requirements,\n",
    "    ]\n",
    "\n",
    "    result = session.instruct(\n",
    "        description=message,  # type: ignore\n",
    "        requirements=reqs,  # type: ignore\n",
    "        strategy=RejectionSamplingStrategy(loop_budget=3),\n",
    "        model_options=model_options,\n",
    "    )\n",
    "    return result"
   ]
  }
 ],
 "metadata": {
  "kernelspec": {
   "display_name": "Python 3 (ipykernel)",
   "language": "python",
   "name": "python3"
  },
  "language_info": {
   "codemirror_mode": {
    "name": "ipython",
    "version": 3
   },
   "file_extension": ".py",
   "mimetype": "text/x-python",
   "name": "python",
   "nbconvert_exporter": "python",
   "pygments_lexer": "ipython3",
   "version": "3.13.5"
  }
 },
 "nbformat": 4,
 "nbformat_minor": 4
}
